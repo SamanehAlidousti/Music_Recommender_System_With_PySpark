{
  "nbformat": 4,
  "nbformat_minor": 0,
  "metadata": {
    "colab": {
      "provenance": [],
      "gpuType": "T4"
    },
    "kernelspec": {
      "display_name": "Python 3",
      "name": "python3"
    },
    "accelerator": "GPU"
  },
  "cells": [
    {
      "cell_type": "code",
      "metadata": {
        "id": "Dal3Np2Imn8u",
        "colab": {
          "base_uri": "https://localhost:8080/"
        },
        "outputId": "3bf2a3be-049d-4003-81d0-d9c61623ff20"
      },
      "source": [
        "!pip install pyspark"
      ],
      "execution_count": 1,
      "outputs": [
        {
          "output_type": "stream",
          "name": "stdout",
          "text": [
            "Collecting pyspark\n",
            "  Downloading pyspark-3.5.0.tar.gz (316.9 MB)\n",
            "\u001b[2K     \u001b[90m━━━━━━━━━━━━━━━━━━━━━━━━━━━━━━━━━━━━━━━━\u001b[0m \u001b[32m316.9/316.9 MB\u001b[0m \u001b[31m2.8 MB/s\u001b[0m eta \u001b[36m0:00:00\u001b[0m\n",
            "\u001b[?25h  Preparing metadata (setup.py) ... \u001b[?25l\u001b[?25hdone\n",
            "Requirement already satisfied: py4j==0.10.9.7 in /usr/local/lib/python3.10/dist-packages (from pyspark) (0.10.9.7)\n",
            "Building wheels for collected packages: pyspark\n",
            "  Building wheel for pyspark (setup.py) ... \u001b[?25l\u001b[?25hdone\n",
            "  Created wheel for pyspark: filename=pyspark-3.5.0-py2.py3-none-any.whl size=317425345 sha256=7f5bf3737599f06b6d537ca72cc7f06e4c3f0c211f3290bfb0b627671c1de37a\n",
            "  Stored in directory: /root/.cache/pip/wheels/41/4e/10/c2cf2467f71c678cfc8a6b9ac9241e5e44a01940da8fbb17fc\n",
            "Successfully built pyspark\n",
            "Installing collected packages: pyspark\n",
            "Successfully installed pyspark-3.5.0\n"
          ]
        }
      ]
    },
    {
      "cell_type": "code",
      "metadata": {
        "id": "Z_cmzia9nA1W"
      },
      "source": [
        "from pyspark.sql import SparkSession\n",
        "from pyspark.sql.functions import count, desc , col, max\n",
        "from pyspark.ml.feature import  StringIndexer\n",
        "from pyspark.ml import Pipeline\n",
        "from pyspark.ml.recommendation import ALS\n",
        "from pyspark.ml.tuning import TrainValidationSplit, ParamGridBuilder"
      ],
      "execution_count": 2,
      "outputs": []
    },
    {
      "cell_type": "markdown",
      "metadata": {
        "id": "pjM5P6b0rVpH"
      },
      "source": [
        "# Creating the spark session\n"
      ]
    },
    {
      "cell_type": "code",
      "metadata": {
        "id": "gvSzI0zMn4Hk"
      },
      "source": [
        "spark = SparkSession.builder.appName(\"favmusic\").getOrCreate()"
      ],
      "execution_count": 3,
      "outputs": []
    },
    {
      "cell_type": "markdown",
      "metadata": {
        "id": "KnyYdMVmnkp5"
      },
      "source": [
        "# Loading the dataset"
      ]
    },
    {
      "cell_type": "code",
      "metadata": {
        "id": "PywJeVgDngVd"
      },
      "source": [
        "file_path =\"/content/listenings.csv\"\n",
        "df_listenings = spark.read.csv(file_path, header = True, inferSchema=True)"
      ],
      "execution_count": 5,
      "outputs": []
    },
    {
      "cell_type": "code",
      "source": [
        "df_listenings.show()"
      ],
      "metadata": {
        "colab": {
          "base_uri": "https://localhost:8080/"
        },
        "id": "hVXtHHFTpkNo",
        "outputId": "2309918f-a319-4c8e-9539-985c0546118d"
      },
      "execution_count": 6,
      "outputs": [
        {
          "output_type": "stream",
          "name": "stdout",
          "text": [
            "+-----------+-------------+--------------------+---------------+--------------------+\n",
            "|    user_id|         date|               track|         artist|               album|\n",
            "+-----------+-------------+--------------------+---------------+--------------------+\n",
            "|000Silenced|1299680100000|           Price Tag|       Jessie J|         Who You Are|\n",
            "|000Silenced|1299679920000|Price Tag (Acoust...|       Jessie J|           Price Tag|\n",
            "|000Silenced|1299679440000|Be Mine! (Ballad ...|          Robyn|            Be Mine!|\n",
            "|000Silenced|1299679200000|            Acapella|          Kelis|            Acapella|\n",
            "|000Silenced|1299675660000|   I'm Not Invisible|      The Tease|   I'm Not Invisible|\n",
            "|000Silenced|1297511400000|Bounce (Feat NORE...|       MSTRKRFT|         Fist of God|\n",
            "|000Silenced|1294498440000|Don't Stop The Mu...|        Rihanna|Addicted 2 Bassli...|\n",
            "|000Silenced|1292438340000|               ObZen|      Meshuggah|               ObZen|\n",
            "|000Silenced|1292437740000|   Yama's Messengers|         Gojira|The Way of All Flesh|\n",
            "|000Silenced|1292436360000|On the Brink of E...|   Napalm Death|Time Waits For No...|\n",
            "|000Silenced|1292436360000|On the Brink of E...|   Napalm Death|Time Waits For No...|\n",
            "|000Silenced|1292435940000|        In Deference|   Napalm Death|      Smear Campaign|\n",
            "|000Silenced|1292434920000|      Post(?)organic|    Decapitated|Organic Hallucinosis|\n",
            "|000Silenced|1292434560000|        Mind Feeders|   Dom & Roland| No Strings Attached|\n",
            "|000Silenced|1292434320000|Necrosadistic War...|Cannibal Corpse|                Kill|\n",
            "|000Silenced|1292365560000|     Dance All Night|   Dom & Roland|          Chronology|\n",
            "|000Silenced|1292365260000|          Late Night|   Dom & Roland|          Chronology|\n",
            "|000Silenced|1292365020000|          Freak Seen|   Dom & Roland|          Chronology|\n",
            "|000Silenced|1292364720000|Paradrenasite (Hi...|   Dom & Roland|          Chronology|\n",
            "|000Silenced|1292364300000|               Rhino|   Dom & Roland|          Chronology|\n",
            "+-----------+-------------+--------------------+---------------+--------------------+\n",
            "only showing top 20 rows\n",
            "\n"
          ]
        }
      ]
    },
    {
      "cell_type": "markdown",
      "metadata": {
        "id": "YUHBP0yjoJvc"
      },
      "source": [
        "\n",
        "# Data Cleaning"
      ]
    },
    {
      "cell_type": "code",
      "metadata": {
        "id": "N8luDo3HndTb",
        "colab": {
          "base_uri": "https://localhost:8080/"
        },
        "outputId": "d167f9d8-bb01-4412-9077-87f7e5e47746"
      },
      "source": [
        "# delete date column\n",
        "df_listenings = df_listenings.drop('date')\n",
        "df_listenings.show()"
      ],
      "execution_count": 8,
      "outputs": [
        {
          "output_type": "stream",
          "name": "stdout",
          "text": [
            "+-----------+--------------------+---------------+--------------------+\n",
            "|    user_id|               track|         artist|               album|\n",
            "+-----------+--------------------+---------------+--------------------+\n",
            "|000Silenced|           Price Tag|       Jessie J|         Who You Are|\n",
            "|000Silenced|Price Tag (Acoust...|       Jessie J|           Price Tag|\n",
            "|000Silenced|Be Mine! (Ballad ...|          Robyn|            Be Mine!|\n",
            "|000Silenced|            Acapella|          Kelis|            Acapella|\n",
            "|000Silenced|   I'm Not Invisible|      The Tease|   I'm Not Invisible|\n",
            "|000Silenced|Bounce (Feat NORE...|       MSTRKRFT|         Fist of God|\n",
            "|000Silenced|Don't Stop The Mu...|        Rihanna|Addicted 2 Bassli...|\n",
            "|000Silenced|               ObZen|      Meshuggah|               ObZen|\n",
            "|000Silenced|   Yama's Messengers|         Gojira|The Way of All Flesh|\n",
            "|000Silenced|On the Brink of E...|   Napalm Death|Time Waits For No...|\n",
            "|000Silenced|On the Brink of E...|   Napalm Death|Time Waits For No...|\n",
            "|000Silenced|        In Deference|   Napalm Death|      Smear Campaign|\n",
            "|000Silenced|      Post(?)organic|    Decapitated|Organic Hallucinosis|\n",
            "|000Silenced|        Mind Feeders|   Dom & Roland| No Strings Attached|\n",
            "|000Silenced|Necrosadistic War...|Cannibal Corpse|                Kill|\n",
            "|000Silenced|     Dance All Night|   Dom & Roland|          Chronology|\n",
            "|000Silenced|          Late Night|   Dom & Roland|          Chronology|\n",
            "|000Silenced|          Freak Seen|   Dom & Roland|          Chronology|\n",
            "|000Silenced|Paradrenasite (Hi...|   Dom & Roland|          Chronology|\n",
            "|000Silenced|               Rhino|   Dom & Roland|          Chronology|\n",
            "+-----------+--------------------+---------------+--------------------+\n",
            "only showing top 20 rows\n",
            "\n"
          ]
        }
      ]
    },
    {
      "cell_type": "code",
      "metadata": {
        "id": "5rDadwmpowII",
        "colab": {
          "base_uri": "https://localhost:8080/"
        },
        "outputId": "55c35c2a-5a37-4f8c-bd8d-031af0f51d70"
      },
      "source": [
        "#delete nan values\n",
        "df_listenings = df_listenings.na.drop()\n",
        "df_listenings.show()"
      ],
      "execution_count": 9,
      "outputs": [
        {
          "output_type": "stream",
          "name": "stdout",
          "text": [
            "+-----------+--------------------+---------------+--------------------+\n",
            "|    user_id|               track|         artist|               album|\n",
            "+-----------+--------------------+---------------+--------------------+\n",
            "|000Silenced|           Price Tag|       Jessie J|         Who You Are|\n",
            "|000Silenced|Price Tag (Acoust...|       Jessie J|           Price Tag|\n",
            "|000Silenced|Be Mine! (Ballad ...|          Robyn|            Be Mine!|\n",
            "|000Silenced|            Acapella|          Kelis|            Acapella|\n",
            "|000Silenced|   I'm Not Invisible|      The Tease|   I'm Not Invisible|\n",
            "|000Silenced|Bounce (Feat NORE...|       MSTRKRFT|         Fist of God|\n",
            "|000Silenced|Don't Stop The Mu...|        Rihanna|Addicted 2 Bassli...|\n",
            "|000Silenced|               ObZen|      Meshuggah|               ObZen|\n",
            "|000Silenced|   Yama's Messengers|         Gojira|The Way of All Flesh|\n",
            "|000Silenced|On the Brink of E...|   Napalm Death|Time Waits For No...|\n",
            "|000Silenced|On the Brink of E...|   Napalm Death|Time Waits For No...|\n",
            "|000Silenced|        In Deference|   Napalm Death|      Smear Campaign|\n",
            "|000Silenced|      Post(?)organic|    Decapitated|Organic Hallucinosis|\n",
            "|000Silenced|        Mind Feeders|   Dom & Roland| No Strings Attached|\n",
            "|000Silenced|Necrosadistic War...|Cannibal Corpse|                Kill|\n",
            "|000Silenced|     Dance All Night|   Dom & Roland|          Chronology|\n",
            "|000Silenced|          Late Night|   Dom & Roland|          Chronology|\n",
            "|000Silenced|          Freak Seen|   Dom & Roland|          Chronology|\n",
            "|000Silenced|Paradrenasite (Hi...|   Dom & Roland|          Chronology|\n",
            "|000Silenced|               Rhino|   Dom & Roland|          Chronology|\n",
            "+-----------+--------------------+---------------+--------------------+\n",
            "only showing top 20 rows\n",
            "\n"
          ]
        }
      ]
    },
    {
      "cell_type": "code",
      "source": [
        "rows = df_listenings.count()\n",
        "cols = len(df_listenings.columns)\n",
        "print (rows, cols)"
      ],
      "metadata": {
        "colab": {
          "base_uri": "https://localhost:8080/"
        },
        "id": "P7vZBAbYr7bq",
        "outputId": "5bdf7b4c-8355-412c-b86c-7ba0fe1d78a3"
      },
      "execution_count": 10,
      "outputs": [
        {
          "output_type": "stream",
          "name": "stdout",
          "text": [
            "54315 4\n"
          ]
        }
      ]
    },
    {
      "cell_type": "markdown",
      "metadata": {
        "id": "cyf1XITGpMWV"
      },
      "source": [
        "\n",
        "# Data aggregation\n",
        "to see how many times each user has listened to specific track\n"
      ]
    },
    {
      "cell_type": "code",
      "metadata": {
        "id": "PeH7vYKEoyWa",
        "colab": {
          "base_uri": "https://localhost:8080/"
        },
        "outputId": "7fa81276-0007-4335-8c09-6b6f18e0a749"
      },
      "source": [
        "df_listenings_agg = df_listenings.select('user_id','track').groupby('user_id', 'track').agg(count('*').alias('count')).orderBy('user_id')\n",
        "df_listenings_agg.show()"
      ],
      "execution_count": 11,
      "outputs": [
        {
          "output_type": "stream",
          "name": "stdout",
          "text": [
            "+-----------+--------------------+-----+\n",
            "|    user_id|               track|count|\n",
            "+-----------+--------------------+-----+\n",
            "|000Silenced|  Could This Be Real|    1|\n",
            "|000Silenced|Remember (ESCM 12...|    1|\n",
            "|000Silenced| The Nephilim Rising|    1|\n",
            "|000Silenced|    Away In A Manger|    1|\n",
            "|000Silenced|     Rock This Place|    1|\n",
            "|000Silenced|            Red Heat|    1|\n",
            "|000Silenced|         Conquer All|    1|\n",
            "|000Silenced|We Love Bass (Dub...|    1|\n",
            "|000Silenced|            Transway|    1|\n",
            "|000Silenced|               Rhino|    1|\n",
            "|000Silenced|      Caramelldansen|    2|\n",
            "|000Silenced|Don't Stop The Mu...|    1|\n",
            "|000Silenced|         Machine Gun|    1|\n",
            "|000Silenced|Corrected (Freaky...|    1|\n",
            "|000Silenced|   I'm Not Invisible|    1|\n",
            "|000Silenced|    Just So You Know|    1|\n",
            "|000Silenced|Soul Purge (Featu...|    1|\n",
            "|000Silenced|Run To You (BT vs...|    1|\n",
            "|000Silenced|Anomaly (Calling ...|    1|\n",
            "|000Silenced|    Won't Go Quietly|    1|\n",
            "+-----------+--------------------+-----+\n",
            "only showing top 20 rows\n",
            "\n"
          ]
        }
      ]
    },
    {
      "cell_type": "markdown",
      "metadata": {
        "id": "vuebvg7UqzsO"
      },
      "source": [
        "# Convert user_id and track columns into unique integers\n",
        "\n",
        "\n"
      ]
    },
    {
      "cell_type": "code",
      "metadata": {
        "id": "F9RSpj3DN6aX",
        "colab": {
          "base_uri": "https://localhost:8080/"
        },
        "outputId": "9bce365e-fc14-4a1c-b04a-965fbc918d4b"
      },
      "source": [
        "indexer = [StringIndexer(inputCol=col ,outputCol= col + '_index').fit(df_listenings_agg) for col in list(set(df_listenings_agg.columns) - set(['count']))]\n",
        "\n",
        "pipeline = Pipeline(stages=indexer)\n",
        "\n",
        "data = pipeline.fit(df_listenings_agg).transform(df_listenings_agg)\n",
        "data.show()"
      ],
      "execution_count": 12,
      "outputs": [
        {
          "output_type": "stream",
          "name": "stdout",
          "text": [
            "+-----------+--------------------+-----+-----------+-------------+\n",
            "|    user_id|               track|count|track_index|user_id_index|\n",
            "+-----------+--------------------+-----+-----------+-------------+\n",
            "|000Silenced|      Post(?)organic|    1|    21874.0|         13.0|\n",
            "|000Silenced|    Away In A Manger|    1|     6832.0|         13.0|\n",
            "|000Silenced|Soul Purge (Featu...|    1|    24813.0|         13.0|\n",
            "|000Silenced|            Red Heat|    1|    22517.0|         13.0|\n",
            "|000Silenced|            Headknot|    1|     2811.0|         13.0|\n",
            "|000Silenced|We Love Bass (Dub...|    1|    29537.0|         13.0|\n",
            "|000Silenced|Anomaly (Calling ...|    1|     6426.0|         13.0|\n",
            "|000Silenced|               Rhino|    1|    22701.0|         13.0|\n",
            "|000Silenced| Let the Story Begin|    1|    17550.0|         13.0|\n",
            "|000Silenced|Don't Stop The Mu...|    1|    10855.0|         13.0|\n",
            "|000Silenced|   Can't Tek No More|    1|     2152.0|         13.0|\n",
            "|000Silenced|               Money|    1|      282.0|         13.0|\n",
            "|000Silenced|   I'm Not Invisible|    1|    15568.0|         13.0|\n",
            "|000Silenced|  Could This Be Real|    1|     9615.0|         13.0|\n",
            "|000Silenced| The Nephilim Rising|    1|    27051.0|         13.0|\n",
            "|000Silenced|     Rock This Place|    1|    22893.0|         13.0|\n",
            "|000Silenced|         Conquer All|    1|     9518.0|         13.0|\n",
            "|000Silenced|            Transway|    1|    28326.0|         13.0|\n",
            "|000Silenced|      Caramelldansen|    2|     8673.0|         13.0|\n",
            "|000Silenced|      Split the Atom|    1|     4129.0|         13.0|\n",
            "+-----------+--------------------+-----+-----------+-------------+\n",
            "only showing top 20 rows\n",
            "\n"
          ]
        }
      ]
    },
    {
      "cell_type": "code",
      "metadata": {
        "id": "efL-hiR-q-AO",
        "colab": {
          "base_uri": "https://localhost:8080/"
        },
        "outputId": "74068f8b-9499-4da8-8f29-d5ea4f9e25c8"
      },
      "source": [
        "data = data.select('user_id_index','track_index', 'count').orderBy('user_id_index')\n",
        "data.show()"
      ],
      "execution_count": 13,
      "outputs": [
        {
          "output_type": "stream",
          "name": "stdout",
          "text": [
            "+-------------+-----------+-----+\n",
            "|user_id_index|track_index|count|\n",
            "+-------------+-----------+-----+\n",
            "|          0.0|    10473.0|    1|\n",
            "|          0.0|       22.0|    3|\n",
            "|          0.0|    16200.0|    2|\n",
            "|          0.0|    15360.0|    2|\n",
            "|          0.0|     8863.0|    1|\n",
            "|          0.0|    19656.0|    1|\n",
            "|          0.0|    30715.0|    1|\n",
            "|          0.0|     5586.0|    1|\n",
            "|          0.0|    27285.0|    1|\n",
            "|          0.0|    22831.0|    1|\n",
            "|          0.0|    21565.0|    1|\n",
            "|          0.0|    17074.0|    1|\n",
            "|          0.0|    25706.0|    1|\n",
            "|          0.0|       23.0|    1|\n",
            "|          0.0|    29046.0|    1|\n",
            "|          0.0|    26811.0|    1|\n",
            "|          0.0|     9406.0|    1|\n",
            "|          0.0|    26268.0|    3|\n",
            "|          0.0|      538.0|    1|\n",
            "|          0.0|    25781.0|    1|\n",
            "+-------------+-----------+-----+\n",
            "only showing top 20 rows\n",
            "\n"
          ]
        }
      ]
    },
    {
      "cell_type": "markdown",
      "metadata": {
        "id": "IEwviAxXsHwN"
      },
      "source": [
        "# Split data into Train and Test dataset"
      ]
    },
    {
      "cell_type": "code",
      "metadata": {
        "id": "DRgu2p-PsYUw"
      },
      "source": [
        "(train, test) = data.randomSplit([0.5,0.5])"
      ],
      "execution_count": 14,
      "outputs": []
    },
    {
      "cell_type": "markdown",
      "metadata": {
        "id": "M46wV6Gusdi5"
      },
      "source": [
        "# Creating Model"
      ]
    },
    {
      "cell_type": "code",
      "metadata": {
        "id": "bwPk25M3sfRu"
      },
      "source": [
        "als = ALS(maxIter=5 , regParam= 0.01 , userCol='user_id_index' , itemCol= 'track_index' , ratingCol = 'count')\n",
        "model = als.fit(train)\n",
        "\n",
        "prediction = model.transform(test)"
      ],
      "execution_count": 15,
      "outputs": []
    },
    {
      "cell_type": "markdown",
      "metadata": {
        "id": "lqBkLowzsoj8"
      },
      "source": [
        "\n",
        "# Generate top 10 Track recommendations for each user"
      ]
    },
    {
      "cell_type": "code",
      "metadata": {
        "id": "00mtv7XUsZGg",
        "colab": {
          "base_uri": "https://localhost:8080/"
        },
        "outputId": "24fe4136-9528-47e2-c355-de4eb95e39a1"
      },
      "source": [
        "recs = model.recommendForAllUsers(10)\n",
        "recs.show()"
      ],
      "execution_count": 16,
      "outputs": [
        {
          "output_type": "stream",
          "name": "stdout",
          "text": [
            "+-------------+--------------------+\n",
            "|user_id_index|     recommendations|\n",
            "+-------------+--------------------+\n",
            "|            0|[{26215, 12.27636...|\n",
            "|            1|[{818, 9.418161},...|\n",
            "|            2|[{26455, 9.837048...|\n",
            "|            3|[{26215, 13.05875...|\n",
            "|            4|[{748, 11.068879}...|\n",
            "|            5|[{5678, 11.184947...|\n",
            "|            6|[{5678, 24.193129...|\n",
            "|            7|[{5678, 10.070045...|\n",
            "|            8|[{5678, 8.953505}...|\n",
            "|            9|[{26215, 12.26219...|\n",
            "|           10|[{536, 5.939341},...|\n",
            "|           11|[{9484, 14.072751...|\n",
            "|           12|[{4096, 7.7516155...|\n",
            "|           13|[{9484, 23.538061...|\n",
            "|           14|[{5678, 28.245367...|\n",
            "|           15|[{26455, 7.383555...|\n",
            "|           16|[{9484, 15.812599...|\n",
            "|           17|[{4399, 8.770046}...|\n",
            "|           18|[{11534, 10.71259...|\n",
            "|           19|[{2512, 14.102952...|\n",
            "+-------------+--------------------+\n",
            "only showing top 20 rows\n",
            "\n"
          ]
        }
      ]
    },
    {
      "cell_type": "code",
      "metadata": {
        "id": "_EQnSUh3ncar",
        "colab": {
          "base_uri": "https://localhost:8080/"
        },
        "outputId": "4f27acfd-fc9c-4f4d-d49c-fed6743c0be5"
      },
      "source": [
        "recs.take(1)"
      ],
      "execution_count": 17,
      "outputs": [
        {
          "output_type": "execute_result",
          "data": {
            "text/plain": [
              "[Row(user_id_index=0, recommendations=[Row(track_index=26215, rating=12.276359558105469), Row(track_index=748, rating=9.136616706848145), Row(track_index=26455, rating=8.908474922180176), Row(track_index=4096, rating=6.637484073638916), Row(track_index=26581, rating=5.157538414001465), Row(track_index=25199, rating=4.990167617797852), Row(track_index=1483, rating=4.953574180603027), Row(track_index=219, rating=4.900288105010986), Row(track_index=4683, rating=4.586238861083984), Row(track_index=14091, rating=4.168476104736328)])]"
            ]
          },
          "metadata": {},
          "execution_count": 17
        }
      ]
    }
  ]
}